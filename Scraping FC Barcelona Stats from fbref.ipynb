{
 "cells": [
  {
   "cell_type": "markdown",
   "metadata": {
    "id": "GAY6UZajQhFL"
   },
   "source": [
    "# **Scraping FC Barcelona Stats from fbref website**"
   ]
  },
  {
   "cell_type": "code",
   "execution_count": null,
   "metadata": {
    "colab": {
     "base_uri": "https://localhost:8080/"
    },
    "executionInfo": {
     "elapsed": 11093,
     "status": "ok",
     "timestamp": 1746428155354,
     "user": {
      "displayName": "Ali Ratel",
      "userId": "08597678281339175242"
     },
     "user_tz": -180
    },
    "id": "aJ4UKlqRRDJv",
    "outputId": "0dffff23-d6ea-4588-ed35-81b76a4fb3e8"
   },
   "outputs": [],
   "source": [
    "!pip install playwright"
   ]
  },
  {
   "cell_type": "code",
   "execution_count": null,
   "metadata": {
    "colab": {
     "base_uri": "https://localhost:8080/"
    },
    "executionInfo": {
     "elapsed": 27018,
     "status": "ok",
     "timestamp": 1746428184104,
     "user": {
      "displayName": "Ali Ratel",
      "userId": "08597678281339175242"
     },
     "user_tz": -180
    },
    "id": "GdWUwD7LatVQ",
    "outputId": "25d9bc2f-d13f-4def-a309-3546c9c2b348"
   },
   "outputs": [],
   "source": [
    "!playwright install"
   ]
  },
  {
   "cell_type": "code",
   "execution_count": null,
   "metadata": {
    "colab": {
     "base_uri": "https://localhost:8080/"
    },
    "executionInfo": {
     "elapsed": 3231,
     "status": "ok",
     "timestamp": 1746428189728,
     "user": {
      "displayName": "Ali Ratel",
      "userId": "08597678281339175242"
     },
     "user_tz": -180
    },
    "id": "SAopIpPmeV1x",
    "outputId": "8fb39c1a-34b3-416c-913a-88be26171358"
   },
   "outputs": [],
   "source": [
    "!pip install fake_useragent"
   ]
  },
  {
   "cell_type": "code",
   "execution_count": 4,
   "metadata": {
    "executionInfo": {
     "elapsed": 624,
     "status": "ok",
     "timestamp": 1746428192577,
     "user": {
      "displayName": "Ali Ratel",
      "userId": "08597678281339175242"
     },
     "user_tz": -180
    },
    "id": "h4dJNNXM4Xlc"
   },
   "outputs": [],
   "source": [
    "import asyncio\n",
    "from playwright.async_api import async_playwright\n",
    "from fake_useragent import UserAgent\n",
    "import pandas as pd\n",
    "import time, random\n",
    "import os"
   ]
  },
  {
   "cell_type": "code",
   "execution_count": null,
   "metadata": {
    "colab": {
     "base_uri": "https://localhost:8080/"
    },
    "executionInfo": {
     "elapsed": 325546,
     "status": "ok",
     "timestamp": 1746428519769,
     "user": {
      "displayName": "Ali Ratel",
      "userId": "08597678281339175242"
     },
     "user_tz": -180
    },
    "id": "m2MB6PGuQ8bv",
    "outputId": "486b4f7b-a2ca-4d45-8651-eb8a773a31c4"
   },
   "outputs": [
    {
     "name": "stdout",
     "output_type": "stream",
     "text": [
      "Scraping fbref\n",
      "Saved table: fbref_tables/Standard_Stats_2024-2025_Barcelona:_Champions_League.csv\n",
      "Saved table: fbref_tables/Scores_&_Fixtures_2024-2025_Barcelona:_Champions_League.csv\n",
      "Saved table: fbref_tables/Goalkeeping_2024-2025_Barcelona:_Champions_League.csv\n",
      "Saved table: fbref_tables/Advanced_Goalkeeping_2024-2025_Barcelona:_Champions_League.csv\n",
      "Saved table: fbref_tables/Shooting_2024-2025_Barcelona:_Champions_League.csv\n",
      "Saved table: fbref_tables/Passing_2024-2025_Barcelona:_Champions_League.csv\n",
      "Saved table: fbref_tables/Pass_Types_2024-2025_Barcelona:_Champions_League.csv\n",
      "Saved table: fbref_tables/Goal_and_Shot_Creation_2024-2025_Barcelona:_Champions_League.csv\n",
      "Saved table: fbref_tables/Defensive_Actions_2024-2025_Barcelona:_Champions_League.csv\n",
      "Saved table: fbref_tables/Possession_2024-2025_Barcelona:_Champions_League.csv\n",
      "Saved table: fbref_tables/Playing_Time_2024-2025_Barcelona:_Champions_League.csv\n",
      "Saved table: fbref_tables/Miscellaneous_Stats_2024-2025_Barcelona:_Champions_League.csv\n",
      "Saved table: fbref_tables/League_phase,_Champions_League.csv\n"
     ]
    }
   ],
   "source": [
    "ua = UserAgent()\n",
    "\n",
    "async def scrape_fbref():\n",
    "    async with async_playwright() as p:\n",
    "        browser = await p.chromium.launch(headless=True)\n",
    "        page = await browser.new_page()\n",
    "        await page.set_extra_http_headers({\"User-Agent\": ua.random})\n",
    "        try:\n",
    "            print(\"Scraping fbref\")\n",
    "            await page.goto(\"https://fbref.com/en/squads/206d90db/2024-2025/c8/Barcelona-Stats-Champions-League\", timeout=30000)\n",
    "            await page.wait_for_selector(\".table_wrapper\", timeout=30000)\n",
    "            tables = await page.query_selector_all(\".table_wrapper\")\n",
    "            # Folder for CSVs\n",
    "            os.makedirs(\"fbref_tables\", exist_ok=True)\n",
    "\n",
    "            for i, wrapper in enumerate(tables):\n",
    "                try:\n",
    "                    # Table title for CSV filename\n",
    "                    title_elem = await wrapper.query_selector(\"h2\")\n",
    "                    title = await title_elem.inner_text() if title_elem else f\"table_{i}\"\n",
    "                    title = title.strip().replace(\" \", \"_\").replace(\"/\", \"-\")\n",
    "\n",
    "                    # Table element\n",
    "                    table = await wrapper.query_selector(\"table\")\n",
    "                    if not table:\n",
    "                        continue\n",
    "\n",
    "                    # Headers\n",
    "                    header_elems = await table.query_selector_all(\"thead tr:nth-child(2) th\")\n",
    "                    if not header_elems:\n",
    "                        header_elems = await table.query_selector_all(\"thead tr:nth-child(1) th\")\n",
    "\n",
    "                    headers = []\n",
    "                    for h in header_elems:\n",
    "                        aria_label = await h.get_attribute(\"aria-label\")\n",
    "                        text = await h.inner_text()\n",
    "                        headers.append(aria_label.strip() if aria_label else text.strip())\n",
    "\n",
    "                    # Rows\n",
    "                    row_elements = await table.query_selector_all(\"tbody tr\")\n",
    "                    rows = []\n",
    "                    for row in row_elements:\n",
    "                      cell_elements = await row.query_selector_all(\"th, td\")\n",
    "                      row_data = [await cell.inner_text() for cell in cell_elements]\n",
    "\n",
    "                      first_cell = row_data[0].strip() if row_data else \"\"\n",
    "\n",
    "                      # Skip if first cell is empty or matches any header\n",
    "                      if not first_cell or first_cell in headers:\n",
    "                          continue\n",
    "\n",
    "                      rows.append(row_data)\n",
    "\n",
    "\n",
    "                    # Save to CSV\n",
    "                    df = pd.DataFrame(rows, columns=headers[:len(rows[0])])\n",
    "                    filename = f\"fbref_tables/{title}.csv\"\n",
    "                    df.to_csv(filename, index=False)\n",
    "                    print(f\"Saved table: {filename}\")\n",
    "                except Exception as inner_e:\n",
    "                    print(f\"Error parsing table {i}: {inner_e}\")\n",
    "\n",
    "        except Exception as e:\n",
    "            print(f\"Error: {e}\")\n",
    "        await browser.close()\n",
    "\n",
    "# Run\n",
    "await scrape_fbref()"
   ]
  },
  {
   "cell_type": "code",
   "execution_count": null,
   "metadata": {
    "id": "PkePWz5X288j"
   },
   "outputs": [],
   "source": []
  }
 ],
 "metadata": {
  "colab": {
   "authorship_tag": "ABX9TyN16BrvELKcNmBMRDshrDeP",
   "mount_file_id": "1OhNAnRU3mfu-mWLv7mmWNu-7mrbwPtq7",
   "provenance": []
  },
  "kernelspec": {
   "display_name": "Python 3",
   "name": "python3"
  },
  "language_info": {
   "name": "python"
  }
 },
 "nbformat": 4,
 "nbformat_minor": 0
}
