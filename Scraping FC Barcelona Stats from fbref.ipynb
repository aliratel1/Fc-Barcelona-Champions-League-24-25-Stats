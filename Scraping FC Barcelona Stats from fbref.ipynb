{
 "cells": [
  {
   "cell_type": "markdown",
   "metadata": {
    "id": "GAY6UZajQhFL"
   },
   "source": [
    "# **Scraping FC Barcelona Stats from fbref website**"
   ]
  },
  {
   "cell_type": "code",
   "execution_count": 1,
   "metadata": {
    "colab": {
     "base_uri": "https://localhost:8080/"
    },
    "executionInfo": {
     "elapsed": 11093,
     "status": "ok",
     "timestamp": 1746428155354,
     "user": {
      "displayName": "Ali Ratel",
      "userId": "08597678281339175242"
     },
     "user_tz": -180
    },
    "id": "aJ4UKlqRRDJv",
    "outputId": "0dffff23-d6ea-4588-ed35-81b76a4fb3e8"
   },
   "outputs": [
    {
     "name": "stdout",
     "output_type": "stream",
     "text": [
      "Collecting playwright\n",
      "  Downloading playwright-1.52.0-py3-none-manylinux1_x86_64.whl.metadata (3.5 kB)\n",
      "Collecting pyee<14,>=13 (from playwright)\n",
      "  Downloading pyee-13.0.0-py3-none-any.whl.metadata (2.9 kB)\n",
      "Requirement already satisfied: greenlet<4.0.0,>=3.1.1 in /usr/local/lib/python3.11/dist-packages (from playwright) (3.2.1)\n",
      "Requirement already satisfied: typing-extensions in /usr/local/lib/python3.11/dist-packages (from pyee<14,>=13->playwright) (4.13.2)\n",
      "Downloading playwright-1.52.0-py3-none-manylinux1_x86_64.whl (45.1 MB)\n",
      "\u001b[2K   \u001b[90m━━━━━━━━━━━━━━━━━━━━━━━━━━━━━━━━━━━━━━━━\u001b[0m \u001b[32m45.1/45.1 MB\u001b[0m \u001b[31m14.4 MB/s\u001b[0m eta \u001b[36m0:00:00\u001b[0m\n",
      "\u001b[?25hDownloading pyee-13.0.0-py3-none-any.whl (15 kB)\n",
      "Installing collected packages: pyee, playwright\n",
      "Successfully installed playwright-1.52.0 pyee-13.0.0\n"
     ]
    }
   ],
   "source": [
    "!pip install playwright"
   ]
  },
  {
   "cell_type": "code",
   "execution_count": 2,
   "metadata": {
    "colab": {
     "base_uri": "https://localhost:8080/"
    },
    "executionInfo": {
     "elapsed": 27018,
     "status": "ok",
     "timestamp": 1746428184104,
     "user": {
      "displayName": "Ali Ratel",
      "userId": "08597678281339175242"
     },
     "user_tz": -180
    },
    "id": "GdWUwD7LatVQ",
    "outputId": "25d9bc2f-d13f-4def-a309-3546c9c2b348"
   },
   "outputs": [
    {
     "name": "stdout",
     "output_type": "stream",
     "text": [
      "Downloading Chromium 136.0.7103.25 (playwright build v1169)\u001b[2m from https://cdn.playwright.dev/dbazure/download/playwright/builds/chromium/1169/chromium-linux.zip\u001b[22m\n",
      "\u001b[1G167.7 MiB [] 0% 0.0s\u001b[0K\u001b[1G167.7 MiB [] 0% 50.3s\u001b[0K\u001b[1G167.7 MiB [] 0% 28.3s\u001b[0K\u001b[1G167.7 MiB [] 0% 16.8s\u001b[0K\u001b[1G167.7 MiB [] 0% 8.9s\u001b[0K\u001b[1G167.7 MiB [] 1% 5.7s\u001b[0K\u001b[1G167.7 MiB [] 2% 4.4s\u001b[0K\u001b[1G167.7 MiB [] 3% 3.6s\u001b[0K\u001b[1G167.7 MiB [] 4% 3.0s\u001b[0K\u001b[1G167.7 MiB [] 5% 2.8s\u001b[0K\u001b[1G167.7 MiB [] 5% 2.6s\u001b[0K\u001b[1G167.7 MiB [] 6% 2.8s\u001b[0K\u001b[1G167.7 MiB [] 6% 2.7s\u001b[0K\u001b[1G167.7 MiB [] 7% 2.7s\u001b[0K\u001b[1G167.7 MiB [] 8% 2.6s\u001b[0K\u001b[1G167.7 MiB [] 9% 2.4s\u001b[0K\u001b[1G167.7 MiB [] 10% 2.4s\u001b[0K\u001b[1G167.7 MiB [] 11% 2.3s\u001b[0K\u001b[1G167.7 MiB [] 12% 2.2s\u001b[0K\u001b[1G167.7 MiB [] 13% 2.2s\u001b[0K\u001b[1G167.7 MiB [] 14% 2.0s\u001b[0K\u001b[1G167.7 MiB [] 15% 2.0s\u001b[0K\u001b[1G167.7 MiB [] 16% 1.9s\u001b[0K\u001b[1G167.7 MiB [] 18% 1.8s\u001b[0K\u001b[1G167.7 MiB [] 19% 1.7s\u001b[0K\u001b[1G167.7 MiB [] 20% 1.7s\u001b[0K\u001b[1G167.7 MiB [] 21% 1.6s\u001b[0K\u001b[1G167.7 MiB [] 22% 1.6s\u001b[0K\u001b[1G167.7 MiB [] 23% 1.5s\u001b[0K\u001b[1G167.7 MiB [] 24% 1.5s\u001b[0K\u001b[1G167.7 MiB [] 25% 1.5s\u001b[0K\u001b[1G167.7 MiB [] 26% 1.4s\u001b[0K\u001b[1G167.7 MiB [] 27% 1.5s\u001b[0K\u001b[1G167.7 MiB [] 28% 1.4s\u001b[0K\u001b[1G167.7 MiB [] 29% 1.4s\u001b[0K\u001b[1G167.7 MiB [] 30% 1.3s\u001b[0K\u001b[1G167.7 MiB [] 31% 1.3s\u001b[0K\u001b[1G167.7 MiB [] 33% 1.3s\u001b[0K\u001b[1G167.7 MiB [] 34% 1.2s\u001b[0K\u001b[1G167.7 MiB [] 35% 1.2s\u001b[0K\u001b[1G167.7 MiB [] 36% 1.2s\u001b[0K\u001b[1G167.7 MiB [] 37% 1.2s\u001b[0K\u001b[1G167.7 MiB [] 38% 1.2s\u001b[0K\u001b[1G167.7 MiB [] 39% 1.2s\u001b[0K\u001b[1G167.7 MiB [] 40% 1.1s\u001b[0K\u001b[1G167.7 MiB [] 40% 1.2s\u001b[0K\u001b[1G167.7 MiB [] 41% 1.2s\u001b[0K\u001b[1G167.7 MiB [] 42% 1.1s\u001b[0K\u001b[1G167.7 MiB [] 43% 1.1s\u001b[0K\u001b[1G167.7 MiB [] 44% 1.1s\u001b[0K\u001b[1G167.7 MiB [] 45% 1.1s\u001b[0K\u001b[1G167.7 MiB [] 46% 1.1s\u001b[0K\u001b[1G167.7 MiB [] 47% 1.1s\u001b[0K\u001b[1G167.7 MiB [] 48% 1.0s\u001b[0K\u001b[1G167.7 MiB [] 49% 1.0s\u001b[0K\u001b[1G167.7 MiB [] 51% 1.0s\u001b[0K\u001b[1G167.7 MiB [] 52% 0.9s\u001b[0K\u001b[1G167.7 MiB [] 53% 0.9s\u001b[0K\u001b[1G167.7 MiB [] 55% 0.9s\u001b[0K\u001b[1G167.7 MiB [] 56% 0.8s\u001b[0K\u001b[1G167.7 MiB [] 57% 0.8s\u001b[0K\u001b[1G167.7 MiB [] 59% 0.8s\u001b[0K\u001b[1G167.7 MiB [] 60% 0.7s\u001b[0K\u001b[1G167.7 MiB [] 61% 0.7s\u001b[0K\u001b[1G167.7 MiB [] 63% 0.7s\u001b[0K\u001b[1G167.7 MiB [] 64% 0.6s\u001b[0K\u001b[1G167.7 MiB [] 66% 0.6s\u001b[0K\u001b[1G167.7 MiB [] 67% 0.6s\u001b[0K\u001b[1G167.7 MiB [] 68% 0.6s\u001b[0K\u001b[1G167.7 MiB [] 69% 0.6s\u001b[0K\u001b[1G167.7 MiB [] 70% 0.6s\u001b[0K\u001b[1G167.7 MiB [] 71% 0.5s\u001b[0K\u001b[1G167.7 MiB [] 72% 0.5s\u001b[0K\u001b[1G167.7 MiB [] 73% 0.5s\u001b[0K\u001b[1G167.7 MiB [] 74% 0.5s\u001b[0K\u001b[1G167.7 MiB [] 75% 0.5s\u001b[0K\u001b[1G167.7 MiB [] 76% 0.4s\u001b[0K\u001b[1G167.7 MiB [] 77% 0.4s\u001b[0K\u001b[1G167.7 MiB [] 78% 0.4s\u001b[0K\u001b[1G167.7 MiB [] 79% 0.4s\u001b[0K\u001b[1G167.7 MiB [] 80% 0.4s\u001b[0K\u001b[1G167.7 MiB [] 81% 0.4s\u001b[0K\u001b[1G167.7 MiB [] 82% 0.3s\u001b[0K\u001b[1G167.7 MiB [] 83% 0.3s\u001b[0K\u001b[1G167.7 MiB [] 84% 0.3s\u001b[0K\u001b[1G167.7 MiB [] 85% 0.3s\u001b[0K\u001b[1G167.7 MiB [] 86% 0.3s\u001b[0K\u001b[1G167.7 MiB [] 87% 0.3s\u001b[0K\u001b[1G167.7 MiB [] 88% 0.2s\u001b[0K\u001b[1G167.7 MiB [] 89% 0.2s\u001b[0K\u001b[1G167.7 MiB [] 90% 0.2s\u001b[0K\u001b[1G167.7 MiB [] 92% 0.2s\u001b[0K\u001b[1G167.7 MiB [] 93% 0.1s\u001b[0K\u001b[1G167.7 MiB [] 94% 0.1s\u001b[0K\u001b[1G167.7 MiB [] 95% 0.1s\u001b[0K\u001b[1G167.7 MiB [] 96% 0.1s\u001b[0K\u001b[1G167.7 MiB [] 97% 0.1s\u001b[0K\u001b[1G167.7 MiB [] 97% 0.0s\u001b[0K\u001b[1G167.7 MiB [] 98% 0.0s\u001b[0K\u001b[1G167.7 MiB [] 99% 0.0s\u001b[0K\u001b[1G167.7 MiB [] 100% 0.0s\u001b[0K\n",
      "Chromium 136.0.7103.25 (playwright build v1169) downloaded to /root/.cache/ms-playwright/chromium-1169\n",
      "Downloading Chromium Headless Shell 136.0.7103.25 (playwright build v1169)\u001b[2m from https://cdn.playwright.dev/dbazure/download/playwright/builds/chromium/1169/chromium-headless-shell-linux.zip\u001b[22m\n",
      "\u001b[1G101.4 MiB [] 0% 0.0s\u001b[0K\u001b[1G101.4 MiB [] 0% 27.6s\u001b[0K\u001b[1G101.4 MiB [] 0% 13.4s\u001b[0K\u001b[1G101.4 MiB [] 0% 8.6s\u001b[0K\u001b[1G101.4 MiB [] 1% 4.8s\u001b[0K\u001b[1G101.4 MiB [] 2% 3.6s\u001b[0K\u001b[1G101.4 MiB [] 2% 3.2s\u001b[0K\u001b[1G101.4 MiB [] 4% 2.6s\u001b[0K\u001b[1G101.4 MiB [] 5% 2.3s\u001b[0K\u001b[1G101.4 MiB [] 6% 2.1s\u001b[0K\u001b[1G101.4 MiB [] 7% 2.0s\u001b[0K\u001b[1G101.4 MiB [] 8% 1.9s\u001b[0K\u001b[1G101.4 MiB [] 9% 1.9s\u001b[0K\u001b[1G101.4 MiB [] 10% 2.1s\u001b[0K\u001b[1G101.4 MiB [] 11% 2.1s\u001b[0K\u001b[1G101.4 MiB [] 12% 2.0s\u001b[0K\u001b[1G101.4 MiB [] 14% 2.0s\u001b[0K\u001b[1G101.4 MiB [] 15% 1.9s\u001b[0K\u001b[1G101.4 MiB [] 16% 1.9s\u001b[0K\u001b[1G101.4 MiB [] 17% 1.9s\u001b[0K\u001b[1G101.4 MiB [] 18% 1.8s\u001b[0K\u001b[1G101.4 MiB [] 19% 1.7s\u001b[0K\u001b[1G101.4 MiB [] 21% 1.6s\u001b[0K\u001b[1G101.4 MiB [] 22% 1.6s\u001b[0K\u001b[1G101.4 MiB [] 23% 1.6s\u001b[0K\u001b[1G101.4 MiB [] 24% 1.6s\u001b[0K\u001b[1G101.4 MiB [] 26% 1.5s\u001b[0K\u001b[1G101.4 MiB [] 27% 1.4s\u001b[0K\u001b[1G101.4 MiB [] 29% 1.3s\u001b[0K\u001b[1G101.4 MiB [] 30% 1.3s\u001b[0K\u001b[1G101.4 MiB [] 32% 1.2s\u001b[0K\u001b[1G101.4 MiB [] 34% 1.2s\u001b[0K\u001b[1G101.4 MiB [] 35% 1.1s\u001b[0K\u001b[1G101.4 MiB [] 36% 1.1s\u001b[0K\u001b[1G101.4 MiB [] 38% 1.1s\u001b[0K\u001b[1G101.4 MiB [] 39% 1.1s\u001b[0K\u001b[1G101.4 MiB [] 40% 1.0s\u001b[0K\u001b[1G101.4 MiB [] 42% 1.0s\u001b[0K\u001b[1G101.4 MiB [] 44% 0.9s\u001b[0K\u001b[1G101.4 MiB [] 45% 0.9s\u001b[0K\u001b[1G101.4 MiB [] 46% 0.9s\u001b[0K\u001b[1G101.4 MiB [] 47% 0.9s\u001b[0K\u001b[1G101.4 MiB [] 49% 0.8s\u001b[0K\u001b[1G101.4 MiB [] 51% 0.8s\u001b[0K\u001b[1G101.4 MiB [] 53% 0.7s\u001b[0K\u001b[1G101.4 MiB [] 55% 0.7s\u001b[0K\u001b[1G101.4 MiB [] 57% 0.7s\u001b[0K\u001b[1G101.4 MiB [] 58% 0.6s\u001b[0K\u001b[1G101.4 MiB [] 61% 0.6s\u001b[0K\u001b[1G101.4 MiB [] 62% 0.6s\u001b[0K\u001b[1G101.4 MiB [] 65% 0.5s\u001b[0K\u001b[1G101.4 MiB [] 66% 0.5s\u001b[0K\u001b[1G101.4 MiB [] 67% 0.5s\u001b[0K\u001b[1G101.4 MiB [] 69% 0.5s\u001b[0K\u001b[1G101.4 MiB [] 70% 0.4s\u001b[0K\u001b[1G101.4 MiB [] 72% 0.4s\u001b[0K\u001b[1G101.4 MiB [] 73% 0.4s\u001b[0K\u001b[1G101.4 MiB [] 74% 0.4s\u001b[0K\u001b[1G101.4 MiB [] 75% 0.4s\u001b[0K\u001b[1G101.4 MiB [] 76% 0.4s\u001b[0K\u001b[1G101.4 MiB [] 77% 0.3s\u001b[0K\u001b[1G101.4 MiB [] 79% 0.3s\u001b[0K\u001b[1G101.4 MiB [] 80% 0.3s\u001b[0K\u001b[1G101.4 MiB [] 81% 0.3s\u001b[0K\u001b[1G101.4 MiB [] 83% 0.3s\u001b[0K\u001b[1G101.4 MiB [] 84% 0.2s\u001b[0K\u001b[1G101.4 MiB [] 86% 0.2s\u001b[0K\u001b[1G101.4 MiB [] 87% 0.2s\u001b[0K\u001b[1G101.4 MiB [] 89% 0.1s\u001b[0K\u001b[1G101.4 MiB [] 91% 0.1s\u001b[0K\u001b[1G101.4 MiB [] 92% 0.1s\u001b[0K\u001b[1G101.4 MiB [] 93% 0.1s\u001b[0K\u001b[1G101.4 MiB [] 95% 0.1s\u001b[0K\u001b[1G101.4 MiB [] 97% 0.0s\u001b[0K\u001b[1G101.4 MiB [] 99% 0.0s\u001b[0K\u001b[1G101.4 MiB [] 100% 0.0s\u001b[0K\n",
      "Chromium Headless Shell 136.0.7103.25 (playwright build v1169) downloaded to /root/.cache/ms-playwright/chromium_headless_shell-1169\n",
      "Downloading Firefox 137.0 (playwright build v1482)\u001b[2m from https://cdn.playwright.dev/dbazure/download/playwright/builds/firefox/1482/firefox-ubuntu-22.04.zip\u001b[22m\n",
      "\u001b[1G91 MiB [] 0% 0.0s\u001b[0K\u001b[1G91 MiB [] 0% 27.3s\u001b[0K\u001b[1G91 MiB [] 0% 13.6s\u001b[0K\u001b[1G91 MiB [] 0% 7.6s\u001b[0K\u001b[1G91 MiB [] 1% 4.0s\u001b[0K\u001b[1G91 MiB [] 2% 2.8s\u001b[0K\u001b[1G91 MiB [] 4% 2.3s\u001b[0K\u001b[1G91 MiB [] 5% 2.0s\u001b[0K\u001b[1G91 MiB [] 7% 1.6s\u001b[0K\u001b[1G91 MiB [] 9% 1.5s\u001b[0K\u001b[1G91 MiB [] 10% 1.4s\u001b[0K\u001b[1G91 MiB [] 11% 1.4s\u001b[0K\u001b[1G91 MiB [] 12% 1.4s\u001b[0K\u001b[1G91 MiB [] 13% 1.4s\u001b[0K\u001b[1G91 MiB [] 15% 1.3s\u001b[0K\u001b[1G91 MiB [] 16% 1.2s\u001b[0K\u001b[1G91 MiB [] 18% 1.2s\u001b[0K\u001b[1G91 MiB [] 19% 1.2s\u001b[0K\u001b[1G91 MiB [] 21% 1.1s\u001b[0K\u001b[1G91 MiB [] 23% 1.0s\u001b[0K\u001b[1G91 MiB [] 24% 1.0s\u001b[0K\u001b[1G91 MiB [] 26% 1.0s\u001b[0K\u001b[1G91 MiB [] 28% 0.9s\u001b[0K\u001b[1G91 MiB [] 30% 0.9s\u001b[0K\u001b[1G91 MiB [] 32% 0.8s\u001b[0K\u001b[1G91 MiB [] 35% 0.8s\u001b[0K\u001b[1G91 MiB [] 37% 0.7s\u001b[0K\u001b[1G91 MiB [] 38% 0.7s\u001b[0K\u001b[1G91 MiB [] 40% 0.7s\u001b[0K\u001b[1G91 MiB [] 42% 0.6s\u001b[0K\u001b[1G91 MiB [] 44% 0.6s\u001b[0K\u001b[1G91 MiB [] 46% 0.6s\u001b[0K\u001b[1G91 MiB [] 47% 0.6s\u001b[0K\u001b[1G91 MiB [] 49% 0.6s\u001b[0K\u001b[1G91 MiB [] 51% 0.5s\u001b[0K\u001b[1G91 MiB [] 54% 0.5s\u001b[0K\u001b[1G91 MiB [] 56% 0.5s\u001b[0K\u001b[1G91 MiB [] 58% 0.4s\u001b[0K\u001b[1G91 MiB [] 61% 0.4s\u001b[0K\u001b[1G91 MiB [] 64% 0.4s\u001b[0K\u001b[1G91 MiB [] 67% 0.3s\u001b[0K\u001b[1G91 MiB [] 69% 0.3s\u001b[0K\u001b[1G91 MiB [] 70% 0.3s\u001b[0K\u001b[1G91 MiB [] 72% 0.3s\u001b[0K\u001b[1G91 MiB [] 73% 0.3s\u001b[0K\u001b[1G91 MiB [] 76% 0.2s\u001b[0K\u001b[1G91 MiB [] 78% 0.2s\u001b[0K\u001b[1G91 MiB [] 81% 0.2s\u001b[0K\u001b[1G91 MiB [] 83% 0.2s\u001b[0K\u001b[1G91 MiB [] 85% 0.1s\u001b[0K\u001b[1G91 MiB [] 87% 0.1s\u001b[0K\u001b[1G91 MiB [] 90% 0.1s\u001b[0K\u001b[1G91 MiB [] 92% 0.1s\u001b[0K\u001b[1G91 MiB [] 96% 0.0s\u001b[0K\u001b[1G91 MiB [] 98% 0.0s\u001b[0K\u001b[1G91 MiB [] 100% 0.0s\u001b[0K\n",
      "Firefox 137.0 (playwright build v1482) downloaded to /root/.cache/ms-playwright/firefox-1482\n",
      "Downloading Webkit 18.4 (playwright build v2158)\u001b[2m from https://cdn.playwright.dev/dbazure/download/playwright/builds/webkit/2158/webkit-ubuntu-22.04.zip\u001b[22m\n",
      "\u001b[1G93.8 MiB [] 0% 0.0s\u001b[0K\u001b[1G93.8 MiB [] 0% 28.1s\u001b[0K\u001b[1G93.8 MiB [] 0% 15.8s\u001b[0K\u001b[1G93.8 MiB [] 0% 8.8s\u001b[0K\u001b[1G93.8 MiB [] 1% 4.6s\u001b[0K\u001b[1G93.8 MiB [] 2% 2.8s\u001b[0K\u001b[1G93.8 MiB [] 4% 2.2s\u001b[0K\u001b[1G93.8 MiB [] 5% 1.8s\u001b[0K\u001b[1G93.8 MiB [] 7% 1.6s\u001b[0K\u001b[1G93.8 MiB [] 9% 1.4s\u001b[0K\u001b[1G93.8 MiB [] 10% 1.5s\u001b[0K\u001b[1G93.8 MiB [] 11% 1.4s\u001b[0K\u001b[1G93.8 MiB [] 12% 1.4s\u001b[0K\u001b[1G93.8 MiB [] 14% 1.3s\u001b[0K\u001b[1G93.8 MiB [] 16% 1.2s\u001b[0K\u001b[1G93.8 MiB [] 17% 1.2s\u001b[0K\u001b[1G93.8 MiB [] 19% 1.1s\u001b[0K\u001b[1G93.8 MiB [] 21% 1.0s\u001b[0K\u001b[1G93.8 MiB [] 22% 1.0s\u001b[0K\u001b[1G93.8 MiB [] 23% 1.0s\u001b[0K\u001b[1G93.8 MiB [] 25% 0.9s\u001b[0K\u001b[1G93.8 MiB [] 27% 0.9s\u001b[0K\u001b[1G93.8 MiB [] 30% 0.8s\u001b[0K\u001b[1G93.8 MiB [] 32% 0.8s\u001b[0K\u001b[1G93.8 MiB [] 35% 0.7s\u001b[0K\u001b[1G93.8 MiB [] 37% 0.7s\u001b[0K\u001b[1G93.8 MiB [] 39% 0.7s\u001b[0K\u001b[1G93.8 MiB [] 41% 0.6s\u001b[0K\u001b[1G93.8 MiB [] 43% 0.6s\u001b[0K\u001b[1G93.8 MiB [] 45% 0.6s\u001b[0K\u001b[1G93.8 MiB [] 48% 0.5s\u001b[0K\u001b[1G93.8 MiB [] 50% 0.5s\u001b[0K\u001b[1G93.8 MiB [] 53% 0.5s\u001b[0K\u001b[1G93.8 MiB [] 56% 0.4s\u001b[0K\u001b[1G93.8 MiB [] 59% 0.4s\u001b[0K\u001b[1G93.8 MiB [] 61% 0.4s\u001b[0K\u001b[1G93.8 MiB [] 65% 0.3s\u001b[0K\u001b[1G93.8 MiB [] 67% 0.3s\u001b[0K\u001b[1G93.8 MiB [] 70% 0.3s\u001b[0K\u001b[1G93.8 MiB [] 73% 0.2s\u001b[0K\u001b[1G93.8 MiB [] 76% 0.2s\u001b[0K\u001b[1G93.8 MiB [] 78% 0.2s\u001b[0K\u001b[1G93.8 MiB [] 82% 0.2s\u001b[0K\u001b[1G93.8 MiB [] 84% 0.1s\u001b[0K\u001b[1G93.8 MiB [] 87% 0.1s\u001b[0K\u001b[1G93.8 MiB [] 89% 0.1s\u001b[0K\u001b[1G93.8 MiB [] 91% 0.1s\u001b[0K\u001b[1G93.8 MiB [] 92% 0.1s\u001b[0K\u001b[1G93.8 MiB [] 95% 0.0s\u001b[0K\u001b[1G93.8 MiB [] 98% 0.0s\u001b[0K\u001b[1G93.8 MiB [] 100% 0.0s\u001b[0K\n",
      "Webkit 18.4 (playwright build v2158) downloaded to /root/.cache/ms-playwright/webkit-2158\n",
      "Downloading FFMPEG playwright build v1011\u001b[2m from https://cdn.playwright.dev/dbazure/download/playwright/builds/ffmpeg/1011/ffmpeg-linux.zip\u001b[22m\n",
      "\u001b[1G2.3 MiB [] 0% 0.0s\u001b[0K\u001b[1G2.3 MiB [] 2% 0.7s\u001b[0K\u001b[1G2.3 MiB [] 8% 0.4s\u001b[0K\u001b[1G2.3 MiB [] 23% 0.2s\u001b[0K\u001b[1G2.3 MiB [] 54% 0.1s\u001b[0K\u001b[1G2.3 MiB [] 94% 0.0s\u001b[0K\u001b[1G2.3 MiB [] 100% 0.0s\u001b[0K\n",
      "FFMPEG playwright build v1011 downloaded to /root/.cache/ms-playwright/ffmpeg-1011\n",
      "Playwright Host validation warning: \n",
      "╔══════════════════════════════════════════════════════╗\n",
      "║ Host system is missing dependencies to run browsers. ║\n",
      "║ Missing libraries:                                   ║\n",
      "║     libwoff2dec.so.1.0.2                             ║\n",
      "║     libgstgl-1.0.so.0                                ║\n",
      "║     libgstcodecparsers-1.0.so.0                      ║\n",
      "║     libavif.so.13                                    ║\n",
      "║     libharfbuzz-icu.so.0                             ║\n",
      "║     libenchant-2.so.2                                ║\n",
      "║     libsecret-1.so.0                                 ║\n",
      "║     libhyphen.so.0                                   ║\n",
      "║     libmanette-0.2.so.0                              ║\n",
      "╚══════════════════════════════════════════════════════╝\n",
      "    at validateDependenciesLinux (/usr/local/lib/python3.11/dist-packages/playwright/driver/package/lib/server/registry/dependencies.js:269:9)\n",
      "\u001b[90m    at process.processTicksAndRejections (node:internal/process/task_queues:105:5)\u001b[39m\n",
      "    at async Registry._validateHostRequirements (/usr/local/lib/python3.11/dist-packages/playwright/driver/package/lib/server/registry/index.js:927:14)\n",
      "    at async Registry._validateHostRequirementsForExecutableIfNeeded (/usr/local/lib/python3.11/dist-packages/playwright/driver/package/lib/server/registry/index.js:1047:7)\n",
      "    at async Registry.validateHostRequirementsForExecutablesIfNeeded (/usr/local/lib/python3.11/dist-packages/playwright/driver/package/lib/server/registry/index.js:1036:7)\n",
      "    at async t.<anonymous> (/usr/local/lib/python3.11/dist-packages/playwright/driver/package/lib/cli/program.js:160:7)\n"
     ]
    }
   ],
   "source": [
    "!playwright install"
   ]
  },
  {
   "cell_type": "code",
   "execution_count": 3,
   "metadata": {
    "colab": {
     "base_uri": "https://localhost:8080/"
    },
    "executionInfo": {
     "elapsed": 3231,
     "status": "ok",
     "timestamp": 1746428189728,
     "user": {
      "displayName": "Ali Ratel",
      "userId": "08597678281339175242"
     },
     "user_tz": -180
    },
    "id": "SAopIpPmeV1x",
    "outputId": "8fb39c1a-34b3-416c-913a-88be26171358"
   },
   "outputs": [
    {
     "name": "stdout",
     "output_type": "stream",
     "text": [
      "Collecting fake_useragent\n",
      "  Downloading fake_useragent-2.2.0-py3-none-any.whl.metadata (17 kB)\n",
      "Downloading fake_useragent-2.2.0-py3-none-any.whl (161 kB)\n",
      "\u001b[2K   \u001b[90m━━━━━━━━━━━━━━━━━━━━━━━━━━━━━━━━━━━━━━━━\u001b[0m \u001b[32m161.7/161.7 kB\u001b[0m \u001b[31m3.1 MB/s\u001b[0m eta \u001b[36m0:00:00\u001b[0m\n",
      "\u001b[?25hInstalling collected packages: fake_useragent\n",
      "Successfully installed fake_useragent-2.2.0\n"
     ]
    }
   ],
   "source": [
    "!pip install fake_useragent"
   ]
  },
  {
   "cell_type": "code",
   "execution_count": 4,
   "metadata": {
    "executionInfo": {
     "elapsed": 624,
     "status": "ok",
     "timestamp": 1746428192577,
     "user": {
      "displayName": "Ali Ratel",
      "userId": "08597678281339175242"
     },
     "user_tz": -180
    },
    "id": "h4dJNNXM4Xlc"
   },
   "outputs": [],
   "source": [
    "import asyncio\n",
    "from playwright.async_api import async_playwright\n",
    "from fake_useragent import UserAgent\n",
    "import pandas as pd\n",
    "import time, random\n",
    "import os"
   ]
  },
  {
   "cell_type": "code",
   "execution_count": null,
   "metadata": {
    "colab": {
     "base_uri": "https://localhost:8080/"
    },
    "executionInfo": {
     "elapsed": 325546,
     "status": "ok",
     "timestamp": 1746428519769,
     "user": {
      "displayName": "Ali Ratel",
      "userId": "08597678281339175242"
     },
     "user_tz": -180
    },
    "id": "m2MB6PGuQ8bv",
    "outputId": "486b4f7b-a2ca-4d45-8651-eb8a773a31c4"
   },
   "outputs": [
    {
     "name": "stdout",
     "output_type": "stream",
     "text": [
      "Scraping fbref\n",
      "Saved table: fbref_tables/Standard_Stats_2024-2025_Barcelona:_Champions_League.csv\n",
      "Saved table: fbref_tables/Scores_&_Fixtures_2024-2025_Barcelona:_Champions_League.csv\n",
      "Saved table: fbref_tables/Goalkeeping_2024-2025_Barcelona:_Champions_League.csv\n",
      "Saved table: fbref_tables/Advanced_Goalkeeping_2024-2025_Barcelona:_Champions_League.csv\n",
      "Saved table: fbref_tables/Shooting_2024-2025_Barcelona:_Champions_League.csv\n",
      "Saved table: fbref_tables/Passing_2024-2025_Barcelona:_Champions_League.csv\n",
      "Saved table: fbref_tables/Pass_Types_2024-2025_Barcelona:_Champions_League.csv\n",
      "Saved table: fbref_tables/Goal_and_Shot_Creation_2024-2025_Barcelona:_Champions_League.csv\n",
      "Saved table: fbref_tables/Defensive_Actions_2024-2025_Barcelona:_Champions_League.csv\n",
      "Saved table: fbref_tables/Possession_2024-2025_Barcelona:_Champions_League.csv\n",
      "Saved table: fbref_tables/Playing_Time_2024-2025_Barcelona:_Champions_League.csv\n",
      "Saved table: fbref_tables/Miscellaneous_Stats_2024-2025_Barcelona:_Champions_League.csv\n",
      "Saved table: fbref_tables/League_phase,_Champions_League.csv\n"
     ]
    }
   ],
   "source": [
    "ua = UserAgent()\n",
    "\n",
    "async def scrape_fbref():\n",
    "    async with async_playwright() as p:\n",
    "        browser = await p.chromium.launch(headless=True)\n",
    "        page = await browser.new_page()\n",
    "        await page.set_extra_http_headers({\"User-Agent\": ua.random})\n",
    "        try:\n",
    "            print(\"Scraping fbref\")\n",
    "            await page.goto(\"https://fbref.com/en/squads/206d90db/2024-2025/c8/Barcelona-Stats-Champions-League\", timeout=30000)\n",
    "            await page.wait_for_selector(\".table_wrapper\", timeout=30000)\n",
    "            tables = await page.query_selector_all(\".table_wrapper\")\n",
    "            # Folder for CSVs\n",
    "            os.makedirs(\"fbref_tables\", exist_ok=True)\n",
    "\n",
    "            for i, wrapper in enumerate(tables):\n",
    "                try:\n",
    "                    # Table title for CSV filename\n",
    "                    title_elem = await wrapper.query_selector(\"h2\")\n",
    "                    title = await title_elem.inner_text() if title_elem else f\"table_{i}\"\n",
    "                    title = title.strip().replace(\" \", \"_\").replace(\"/\", \"-\")\n",
    "\n",
    "                    # Table element\n",
    "                    table = await wrapper.query_selector(\"table\")\n",
    "                    if not table:\n",
    "                        continue\n",
    "\n",
    "                    # Headers\n",
    "                    header_elems = await table.query_selector_all(\"thead tr:nth-child(2) th\")\n",
    "                    if not header_elems:\n",
    "                        header_elems = await table.query_selector_all(\"thead tr:nth-child(1) th\")\n",
    "\n",
    "                    headers = []\n",
    "                    for h in header_elems:\n",
    "                        aria_label = await h.get_attribute(\"aria-label\")\n",
    "                        text = await h.inner_text()\n",
    "                        headers.append(aria_label.strip() if aria_label else text.strip())\n",
    "\n",
    "                    # Rows\n",
    "                    row_elements = await table.query_selector_all(\"tbody tr\")\n",
    "                    rows = []\n",
    "                    for row in row_elements:\n",
    "                        cell_elements = await row.query_selector_all(\"th, td\")\n",
    "                        row_data = [await cell.inner_text() for cell in cell_elements]\n",
    "                        rows.append(row_data)\n",
    "\n",
    "                    # Save to CSV\n",
    "                    df = pd.DataFrame(rows, columns=headers[:len(rows[0])])\n",
    "                    filename = f\"fbref_tables/{title}.csv\"\n",
    "                    df.to_csv(filename, index=False)\n",
    "                    print(f\"Saved table: {filename}\")\n",
    "                except Exception as inner_e:\n",
    "                    print(f\"Error parsing table {i}: {inner_e}\")\n",
    "\n",
    "        except Exception as e:\n",
    "            print(f\"Error: {e}\")\n",
    "        await browser.close()\n",
    "\n",
    "# Run\n",
    "await scrape_fbref()"
   ]
  },
  {
   "cell_type": "code",
   "execution_count": null,
   "metadata": {
    "id": "PkePWz5X288j"
   },
   "outputs": [],
   "source": []
  }
 ],
 "metadata": {
  "colab": {
   "authorship_tag": "ABX9TyN16BrvELKcNmBMRDshrDeP",
   "mount_file_id": "1OhNAnRU3mfu-mWLv7mmWNu-7mrbwPtq7",
   "provenance": []
  },
  "kernelspec": {
   "display_name": "Python 3",
   "name": "python3"
  },
  "language_info": {
   "name": "python"
  }
 },
 "nbformat": 4,
 "nbformat_minor": 0
}
